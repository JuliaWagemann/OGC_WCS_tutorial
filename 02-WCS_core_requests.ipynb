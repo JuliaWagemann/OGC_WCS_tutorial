{
 "metadata": {
  "name": "",
  "signature": "sha256:9fcc6d2968f29d021c2c15faeadc038ebe81e1bf3539e438463dd06aca235f61"
 },
 "nbformat": 3,
 "nbformat_minor": 0,
 "worksheets": [
  {
   "cells": [
    {
     "cell_type": "heading",
     "level": 1,
     "metadata": {},
     "source": [
      "02-Web Coverage Service (WCS) core requests"
     ]
    },
    {
     "cell_type": "heading",
     "level": 2,
     "metadata": {},
     "source": [
      "Basic Web Coverage Service (WCS) request setup"
     ]
    },
    {
     "cell_type": "markdown",
     "metadata": {},
     "source": [
      "A WCS request can be divided into three main components: \n",
      "  * Service endpoint, \n",
      "  * request type and \n",
      "  * optional parameters  \n",
      "\n",
      "All components are concatenated with a *\"&\"* into one single URL. "
     ]
    },
    {
     "cell_type": "heading",
     "level": 3,
     "metadata": {},
     "source": [
      "Example of a manual WCS request setup"
     ]
    },
    {
     "cell_type": "markdown",
     "metadata": {},
     "source": [
      "> **Service endpoint:** <font color=\"blue\">[http://earthserver.ecmwf.int/rasdaman/ows?](http://earthserver.ecmwf.int/rasdaman/ows?)</font>"
     ]
    },
    {
     "cell_type": "markdown",
     "metadata": {},
     "source": [
      "> **Service and version specification:** <font color=\"blue\">service=WCS&version=2.0.1&</font>"
     ]
    },
    {
     "cell_type": "markdown",
     "metadata": {},
     "source": [
      "> **Request type:**  \n",
      "There are three core request types. A \"&\" indicates that the request requires an optional add-on. Therefore, *DescribeCoverage* and *GetCoverage* requests require further specifications.\n",
      "- [<font color=\"blue\" size=3>GetCapabilities</font>](#get_capabilities)\n",
      "- [<font color=\"blue\" size=3>DescribeCoverage&</font>](#describe_coverage)\n",
      "- [<font color=\"blue\" size=3>GetCoverage&</font>](#get_coverage)"
     ]
    },
    {
     "cell_type": "markdown",
     "metadata": {},
     "source": [
      "> ***Optional* parameters:**  \n",
      "- **<font size=3>DescribeCoverage:</font>**  \n",
      "<font color=\"blue\" size=3>&coverageId=*coverageId*</font>\n",
      "- **<font size=3>GetCoverage:</font>**  \n",
      "  - <p><font color=\"blue\" size=3>&coverageId=*coverageId*</font></p> \n",
      "  - <p><font color=\"blue\" size=3>&subset=*axisSubset1*&subset=*axisSubset2*...</font>  \n",
      "With the add-on **&subset** a coverage axis can be subsetted. For every subsetting operation a subset request has to be concatenated. If you want to do e.g. a temporal (time axis) and spatial subset (latitude and longitude axes), you have to concatenate three subset requests. If no **&subset** is specified, the entire coverage is requested, which can be multiple GBs of data</p>  \n",
      "  - <p><font color=\"blue\" size=3>&format=*formatSupported*</font>  \n",
      "With the add-on **&format** a custom format can be specified. The supported formats are specified in the ***GetCapabilites document***. The default format is application/gml+xml. If the format parameter is not specified, the result is returned in a xml file. \n",
      "  Following formats are currently supported by OGC WCS 2.0.1:  \n",
      " \n",
      "  >> * **netCDF:** applications/netcdf\n",
      "* **JPEG2000:** image/jp2\n",
      "* **GeoTIFF:** image/tiff\n",
      "* **XML:** application/gml+xml\n",
      "* **PNG:** image/png</p>   \n",
      "\n"
     ]
    },
    {
     "cell_type": "markdown",
     "metadata": {},
     "source": [
      "***"
     ]
    },
    {
     "cell_type": "markdown",
     "metadata": {},
     "source": [
      "<font size=4>The following sections show how the concatenated strings per request will look like.   \n",
      "Examples base on ERA-interim 2m air temperature global fields, 6-hourly values from 1 January 1979 to 31 December 2015.</font>"
     ]
    },
    {
     "cell_type": "heading",
     "level": 2,
     "metadata": {},
     "source": [
      "<a id='get_capabilities'></a>*GetCapabilites* request"
     ]
    },
    {
     "cell_type": "markdown",
     "metadata": {},
     "source": [
      "<font color=\"blue\" size=3>[http://earthserver.ecmwf.int/rasdaman/ows?service=WCS&version=2.0.1&request=GetCapabilities](http://earthserver.ecmwf.int/rasdaman/ows?service=WCS&version=2.0.1&request=GetCapabilities)</font>"
     ]
    },
    {
     "cell_type": "markdown",
     "metadata": {},
     "source": [
      "The ***GetCapabilities*** request returns the ***Capabilities document***, which is a XML-document that gives general information to the Web Coverage Service Server. If you use the WCS Server for the first time, the GetCapabilities documents is helpful to see what the service offers.  \n",
      "\n",
      "The XML tree contains following child elements:\n",
      "* **Service Identification**: General information about the Web Coverage Service and WCS profiles it supports\n",
      "* **Service Provider**: Name and contact details about the service and data provider\n",
      "* **OperationsMetadata**: Supported WCS operations of the service\n",
      "* **ServiceMetadata**: Supported format encodings and interpolations methods of the service\n",
      "* **Contents**: Available data sets of the service\n"
     ]
    },
    {
     "cell_type": "code",
     "collapsed": false,
     "input": [
      "HTML('<iframe src=http://earthserver.ecmwf.int/rasdaman/ows?service=WCS&version=2.0.1&request=GetCapabilities width=1050 height=500></iframe>')"
     ],
     "language": "python",
     "metadata": {},
     "outputs": [
      {
       "html": [
        "<iframe src=http://earthserver.ecmwf.int/rasdaman/ows?service=WCS&version=2.0.1&request=GetCapabilities width=1050 height=500></iframe>"
       ],
       "metadata": {},
       "output_type": "pyout",
       "prompt_number": 58,
       "text": [
        "<IPython.core.display.HTML at 0x7fe9f9df6c90>"
       ]
      }
     ],
     "prompt_number": 58
    },
    {
     "cell_type": "markdown",
     "metadata": {},
     "source": [
      "***"
     ]
    },
    {
     "cell_type": "heading",
     "level": 2,
     "metadata": {},
     "source": [
      "<a id='describe_coverage'></a>*DescribeCoverage* request"
     ]
    },
    {
     "cell_type": "markdown",
     "metadata": {},
     "source": [
      "<font size=3>[http://earthserver.ecmwf.int/rasdaman/ows?service=WCS&version=2.0.1&request=DescribeCoverage&coverageId=temp2m](http://earthserver.ecmwf.int/rasdaman/ows?service=WCS&version=2.0.1&request=DescribeCoverage&coverageId=temp2m)</font>"
     ]
    },
    {
     "cell_type": "markdown",
     "metadata": {},
     "source": [
      "The ***DescribeCoverage*** request returns a ***CoverageDescription*** document, that contains the metadata of a dataset encoded in XML.  \n",
      "\n",
      "The example below shows the metadata of the coverage \"temp2m\", which is ERA-interim 2m air temperature. Important XML tree child elements are:\n",
      "* **boundedBy**: this shows you the dimension of the coverage (number and name of axes as well as their dimensions)\n",
      "* **domainSet**: this shows you the resolution of each axis. In the example, the spatial resolution is 0.5 deg (~50 km) and the temporal resolution is a quarter of a day, meaning 6 hours."
     ]
    },
    {
     "cell_type": "code",
     "collapsed": false,
     "input": [
      "HTML('<iframe src=http://earthserver.ecmwf.int/rasdaman/ows?service=WCS&version=2.0.1&request=DescribeCoverage&coverageId=temp2m width=1050 height=500></iframe>')"
     ],
     "language": "python",
     "metadata": {},
     "outputs": [
      {
       "html": [
        "<iframe src=http://earthserver.ecmwf.int/rasdaman/ows?service=WCS&version=2.0.1&request=DescribeCoverage&coverageId=temp2m width=1050 height=500></iframe>"
       ],
       "metadata": {},
       "output_type": "pyout",
       "prompt_number": 26,
       "text": [
        "<IPython.core.display.HTML at 0x7fe9f9df6510>"
       ]
      }
     ],
     "prompt_number": 26
    },
    {
     "cell_type": "markdown",
     "metadata": {},
     "source": [
      "***"
     ]
    },
    {
     "cell_type": "heading",
     "level": 2,
     "metadata": {},
     "source": [
      "<a id='get_coverage'></a>*GetCoverage* request"
     ]
    },
    {
     "cell_type": "markdown",
     "metadata": {},
     "source": [
      "The ***GetCoverage*** operation requests the actual spatial data. The power of the GetCoverage request is the ability to subset domains (spatial and temporal) and to encode the output in different formats. All examples will take 2m air temperature as example coverage."
     ]
    },
    {
     "cell_type": "heading",
     "level": 3,
     "metadata": {},
     "source": [
      "Slice ooperation (dimension reduction)"
     ]
    },
    {
     "cell_type": "markdown",
     "metadata": {},
     "source": [
      "With the subset parameter, the dimensionality of the coverage can be reduced. From a multi-dimensional data cube, a **time series of a specific latitude/longitude grid point** or a **2D field for one specific time** can be retrieved. Examples are provided below.\n",
      "\n",
      "By default, the data is returned in a XML file. The XML tree child element **rangeSet**  contains the actual data.\n",
      "\n",
      "- <font size=3>Retrieve the **2m  air temperature time series** for every time step for the location Reading, UK. (Reduction from 3D to 1D)</font>   \n",
      "\n",
      "<p><font size=3 color=\"blue\">http://earthserver.ecmwf.int/rasdaman/ows?service=WCS&version=2.0.1&request=GetCoverage&coverageId=temp2m&subset=Lat(51.0)&subset=Long(-1.0)&format=application/gml+xml</font></p>\n"
     ]
    },
    {
     "cell_type": "code",
     "collapsed": false,
     "input": [
      "HTML('<iframe src=http://earthserver.ecmwf.int/rasdaman/ows?service=WCS&version=2.0.1&request=GetCoverage&coverageId=temp2m&subset=Lat(51.0)&subset=Long(-1.0) width=1050 height=500></iframe>')"
     ],
     "language": "python",
     "metadata": {},
     "outputs": [
      {
       "html": [
        "<iframe src=http://earthserver.ecmwf.int/rasdaman/ows?service=WCS&version=2.0.1&request=GetCoverage&coverageId=temp2m&subset=Lat(51.0)&subset=Long(-1.0) width=1050 height=500></iframe>"
       ],
       "metadata": {},
       "output_type": "pyout",
       "prompt_number": 59,
       "text": [
        "<IPython.core.display.HTML at 0x7fe9f9df6d50>"
       ]
      }
     ],
     "prompt_number": 59
    },
    {
     "cell_type": "markdown",
     "metadata": {},
     "source": [
      "  "
     ]
    },
    {
     "cell_type": "markdown",
     "metadata": {},
     "source": [
      "- <font size=3>Retrieve the **global field of 2m  air temperature** for 6 July 2010 at 00 UTC encoded as XML (default). (Reduction from 3D to 2D)</font>   \n",
      "\n",
      "<p><font size=3 color=\"blue\">http://earthserver.ecmwf.int/rasdaman/ows?service=WCS&version=2.0.1&request=GetCoverage&coverageId=temp2m&subset=ansi(\"2010-07-06T00:00\")&format=application/gml+xml</font></p>"
     ]
    },
    {
     "cell_type": "code",
     "collapsed": false,
     "input": [
      "HTML('<iframe src=http://earthserver.ecmwf.int/rasdaman/ows?service=WCS&version=2.0.1&request=GetCoverage&coverageId=temp2m&subset=ansi(\"2010-07-6T00:00\") width=1050 height=500></iframe>')"
     ],
     "language": "python",
     "metadata": {},
     "outputs": [
      {
       "html": [
        "<iframe src=http://earthserver.ecmwf.int/rasdaman/ows?service=WCS&version=2.0.1&request=GetCoverage&coverageId=temp2m&subset=ansi(\"2010-07-6T00:00\") width=1050 height=500></iframe>"
       ],
       "metadata": {},
       "output_type": "pyout",
       "prompt_number": 44,
       "text": [
        "<IPython.core.display.HTML at 0x7fe9f9df6950>"
       ]
      }
     ],
     "prompt_number": 44
    },
    {
     "cell_type": "markdown",
     "metadata": {},
     "source": [
      "   "
     ]
    },
    {
     "cell_type": "markdown",
     "metadata": {},
     "source": [
      "- <font size=3>Retrieve the **global 2m  air temperature** for 30 November 2010 at 00 UTC as **png image**. (Reduction from 3D to 2D)</font>   \n",
      "\n",
      "<p><font size=3 color=\"blue\">http://earthserver.ecmwf.int/rasdaman/ows?service=WCS&version=2.0.1&request=GetCoverage&coverageId=temp2m&subset=ansi(\"2010-11-30T00:00\")&format=image/png</font></p>"
     ]
    },
    {
     "cell_type": "code",
     "collapsed": false,
     "input": [
      "HTML('<iframe src=http://earthserver.ecmwf.int/rasdaman/ows?service=WCS&version=2.0.1&request=GetCoverage&coverageId=temp2m&subset=ansi(\"2010-11-30T00:00\")&format=image/png width=1050 height=500></iframe>')"
     ],
     "language": "python",
     "metadata": {},
     "outputs": [
      {
       "html": [
        "<iframe src=http://earthserver.ecmwf.int/rasdaman/ows?service=WCS&version=2.0.1&request=GetCoverage&coverageId=temp2m&subset=ansi(\"2010-11-30T00:00\")&format=image/png width=1050 height=500></iframe>"
       ],
       "metadata": {},
       "output_type": "pyout",
       "prompt_number": 42,
       "text": [
        "<IPython.core.display.HTML at 0x7fe9f9df63d0>"
       ]
      }
     ],
     "prompt_number": 42
    },
    {
     "cell_type": "markdown",
     "metadata": {},
     "source": [
      "The result encoded as png has a missing colour-scale. The tutorial about WCPS will give an example how a colour-scale can be applied on-the-fly."
     ]
    },
    {
     "cell_type": "markdown",
     "metadata": {},
     "source": [
      "   "
     ]
    },
    {
     "cell_type": "heading",
     "level": 3,
     "metadata": {},
     "source": [
      "Trim operation (extent reduction)"
     ]
    },
    {
     "cell_type": "markdown",
     "metadata": {},
     "source": [
      "- <font size=3>Retrieve the **2m  air temperature for Europe** on 15 August 2003 at 12 UTC encoded as XML. (Reduction from 3D to a 2D subset)</font>   \n",
      "\n",
      "<p><font size=3 color=\"blue\">http://earthserver.ecmwf.int/rasdaman/ows?service=WCS&version=2.0.1&request=GetCoverage&coverageId=temp2m&subset=Lat(-30.0,65.0)&subset=Long(35.0,80.0)&subset=ansi(\"2010-08-15T00:00\")&format=application/gml+xml</font></p>"
     ]
    },
    {
     "cell_type": "code",
     "collapsed": false,
     "input": [
      "HTML('<iframe src=http://earthserver.ecmwf.int/rasdaman/ows?service=WCS&version=2.0.1&request=GetCoverage&coverageId=temp2m&subset=Lat(-30.0,65.0)&subset=Long(35.0,80.0)&subset=ansi(\"2010-08-15T00:00\") width=1050 height=500></iframe>')"
     ],
     "language": "python",
     "metadata": {},
     "outputs": [
      {
       "html": [
        "<iframe src=http://earthserver.ecmwf.int/rasdaman/ows?service=WCS&version=2.0.1&request=GetCoverage&coverageId=temp2m&subset=Lat(-30.0,65.0)&subset=Long(35.0,80.0)&subset=ansi(\"2010-07-06T00:00\") width=1050 height=500></iframe>"
       ],
       "metadata": {},
       "output_type": "pyout",
       "prompt_number": 54,
       "text": [
        "<IPython.core.display.HTML at 0x7fe9f9df6b50>"
       ]
      }
     ],
     "prompt_number": 54
    },
    {
     "cell_type": "markdown",
     "metadata": {},
     "source": [
      "    "
     ]
    },
    {
     "cell_type": "markdown",
     "metadata": {},
     "source": [
      "- <font size=3>Retrieve the **2m  air temperature for Europe** on 15 August 2003 at 12 UTC encoded as netCDF. (Reduction from 3D to a 2D subset)</font>   \n",
      "\n",
      "<p><font size=3 color=\"blue\">http://earthserver.ecmwf.int/rasdaman/ows?service=WCS&version=2.0.1&request=GetCoverage&coverageId=temp2m&subset=Lat(-30.0,65.0)&subset=Long(35.0,80.0)&subset=ansi(\"2010-08-15T00:00\")&format=application/netcdf</font></p>"
     ]
    },
    {
     "cell_type": "markdown",
     "metadata": {},
     "source": [
      "***"
     ]
    },
    {
     "cell_type": "markdown",
     "metadata": {},
     "source": [
      "You now know how to access and retrieve data from a WCS server using the WCS core requests. The [next tutorial chapter](./03-WCPS_extension.ipynb) introduces you to Web Coverage *Processing* Service, which is an extension of the WCS core suite and a powerful tool to access, process and retrieve spatial data on-the-fly."
     ]
    },
    {
     "cell_type": "code",
     "collapsed": false,
     "input": [],
     "language": "python",
     "metadata": {},
     "outputs": []
    }
   ],
   "metadata": {}
  }
 ]
}