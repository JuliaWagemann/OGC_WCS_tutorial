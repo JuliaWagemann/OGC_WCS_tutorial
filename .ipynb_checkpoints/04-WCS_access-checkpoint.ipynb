{
 "metadata": {
  "name": "",
  "signature": "sha256:bcab679633c491dc42a0348378d0f2a2d0a13494fab69df428da917b5a20047a"
 },
 "nbformat": 3,
 "nbformat_minor": 0,
 "worksheets": [
  {
   "cells": [
    {
     "cell_type": "heading",
     "level": 2,
     "metadata": {},
     "source": [
      "04-How to access and work with a Web Coverage (Processing) Service?"
     ]
    },
    {
     "cell_type": "markdown",
     "metadata": {},
     "source": [
      "<a href=\"./03_WCPS_extension.ipynb\"><< 03-WCPS extension</a>&nbsp;<space>&nbsp;<space>&nbsp;<space>&nbsp;<space>&nbsp;<space>&nbsp;<space>&nbsp;<space>&nbsp;<space>&nbsp;<space>&nbsp;<space> <a href=\"./05-WCS_clients.ipynb\">05-WCS clients >></a>"
     ]
    },
    {
     "cell_type": "markdown",
     "metadata": {},
     "source": [
      "WCS queries, WCPS queries in particular, can get quite long and complex, as the the examples in the [previous tutorial](./03-WCPS_extension.ipynb) had shown. We will introduce two tools that make t\n",
      "- [WCS endpoint with petascope client](#wcs_endpoint)\n",
      "- [Develop queries with POSTMAN (chrome extension)](#postman)"
     ]
    },
    {
     "cell_type": "markdown",
     "metadata": {},
     "source": [
      "***"
     ]
    },
    {
     "cell_type": "heading",
     "level": 3,
     "metadata": {},
     "source": [
      "<a id=wcs_endpoint></a>WCS endpoint with petascope client (rasdaman)"
     ]
    },
    {
     "cell_type": "markdown",
     "metadata": {},
     "source": [
      "[Rasdaman](www.rasdaman.org) provides its own petascope client to its Web Coverage Service server. This allows for easy access to the service, with almost no prior WC(P)S knowledge. The petascope client is a well-arranged web-interface that results from a conversion of the XML documents returned by the WCS requests.  \n",
      "\n",
      "\n",
      "\n",
      "\n",
      "\n",
      "\n",
      "\n"
     ]
    },
    {
     "cell_type": "heading",
     "level": 4,
     "metadata": {},
     "source": [
      "Petascope - GetCapabilities and DescribeCoverage"
     ]
    },
    {
     "cell_type": "markdown",
     "metadata": {},
     "source": [
      "<img src=\"img/wcs_getcapabilities.jpg\" width=\"900\">"
     ]
    },
    {
     "cell_type": "heading",
     "level": 4,
     "metadata": {},
     "source": [
      "Petascope - GetCoverage"
     ]
    },
    {
     "cell_type": "markdown",
     "metadata": {},
     "source": [
      "<img src=\"img/wcs_getcoverage.jpg\" width=\"800\">"
     ]
    },
    {
     "cell_type": "heading",
     "level": 4,
     "metadata": {},
     "source": [
      "Petascope - ProcessCoverages"
     ]
    },
    {
     "cell_type": "markdown",
     "metadata": {},
     "source": [
      "<img src=\"img/wcs_processcoverage.jpg\" width=\"900\">"
     ]
    },
    {
     "cell_type": "markdown",
     "metadata": {},
     "source": [
      "***"
     ]
    },
    {
     "cell_type": "heading",
     "level": 3,
     "metadata": {},
     "source": [
      "<a id=\"postman\"></a>Develop queries with the help of POSTMAN"
     ]
    },
    {
     "cell_type": "markdown",
     "metadata": {},
     "source": [
      "POSTMAN\n",
      "http://www.getpostman.com/"
     ]
    },
    {
     "cell_type": "markdown",
     "metadata": {},
     "source": [
      "<img src=\"img/postman.jpg\" width=\"900\">"
     ]
    },
    {
     "cell_type": "markdown",
     "metadata": {},
     "source": [
      "***"
     ]
    },
    {
     "cell_type": "markdown",
     "metadata": {},
     "source": [
      "You should now know some tools that may assist you to develop WC(P)S queries. The [next tutorial](./05-WCS_clients.ipynb) will show multiple examples how WC(P)S requests can actually be integrated into common data processing workflows."
     ]
    },
    {
     "cell_type": "markdown",
     "metadata": {},
     "source": [
      "***"
     ]
    },
    {
     "cell_type": "markdown",
     "metadata": {},
     "source": [
      "&copy; 2016 ECMWF\n",
      "\n",
      "This software is licensed under the terms of the Apache Licence Version 2.0 which can be obtained at http://www.apache.org/licenses/LICENSE-2.0. In applying this licence, ECMWF does not waive the privileges and immunities granted to it by virtue of its status as an intergovernmental organisation nor\n",
      "does it submit to any jurisdiction."
     ]
    }
   ],
   "metadata": {}
  }
 ]
}