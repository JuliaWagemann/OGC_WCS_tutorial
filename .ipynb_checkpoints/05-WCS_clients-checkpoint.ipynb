{
 "metadata": {
  "name": "",
  "signature": "sha256:7e412e89a869be5aadc618bc5cb040361fcf5d7569640a657d66a282926ffe00"
 },
 "nbformat": 3,
 "nbformat_minor": 0,
 "worksheets": [
  {
   "cells": [
    {
     "cell_type": "heading",
     "level": 2,
     "metadata": {},
     "source": [
      "05-WCS clients"
     ]
    },
    {
     "cell_type": "markdown",
     "metadata": {},
     "source": [
      "<a href=\"./04-WCS_access.ipynb\"><< 04-How to access a WC(P)S?</a>&nbsp;<space>&nbsp;<space>&nbsp;<space>&nbsp;<space>&nbsp;<space>&nbsp;<space>&nbsp;<space>&nbsp;<space>&nbsp;<space>&nbsp;<space> <a href=\"./index.ipynb\">Tutorial Index >></a>"
     ]
    },
    {
     "cell_type": "markdown",
     "metadata": {},
     "source": [
      "djfkdjfldjlfjl\n",
      "- [Build web-applications with WC(P)S requests - NASA WebWorldWind example](#nasa_www)\n",
      "- [Integrate WC(P)S into your GIS workflow - QGIS example](#qgis)\n",
      "- [Integrate a WC(P)S request into your data processing routine - Python example](#python)"
     ]
    },
    {
     "cell_type": "markdown",
     "metadata": {},
     "source": [
      "***"
     ]
    },
    {
     "cell_type": "heading",
     "level": 3,
     "metadata": {},
     "source": [
      "<a id=\"nasa_www\"></a>Build web-applications"
     ]
    },
    {
     "cell_type": "markdown",
     "metadata": {},
     "source": [
      "$$$"
     ]
    },
    {
     "cell_type": "markdown",
     "metadata": {},
     "source": [
      "***"
     ]
    },
    {
     "cell_type": "heading",
     "level": 3,
     "metadata": {},
     "source": [
      "<a id=\"qgis\"></a>Integrate WC(P)S into your GIS workflow"
     ]
    },
    {
     "cell_type": "markdown",
     "metadata": {},
     "source": [
      "$$$"
     ]
    },
    {
     "cell_type": "markdown",
     "metadata": {},
     "source": [
      "***"
     ]
    },
    {
     "cell_type": "heading",
     "level": 3,
     "metadata": {},
     "source": [
      "<a id=\"python\"></a>Integrate a WC(P)S request into your data processing routine"
     ]
    },
    {
     "cell_type": "markdown",
     "metadata": {},
     "source": [
      "$$$"
     ]
    },
    {
     "cell_type": "markdown",
     "metadata": {},
     "source": [
      "***"
     ]
    },
    {
     "cell_type": "markdown",
     "metadata": {},
     "source": [
      "&copy; 2016 ECMWF\n",
      "\n",
      "This software is licensed under the terms of the Apache Licence Version 2.0 which can be obtained at http://www.apache.org/licenses/LICENSE-2.0. In applying this licence, ECMWF does not waive the privileges and immunities granted to it by virtue of its status as an intergovernmental organisation nor\n",
      "does it submit to any jurisdiction."
     ]
    }
   ],
   "metadata": {}
  }
 ]
}