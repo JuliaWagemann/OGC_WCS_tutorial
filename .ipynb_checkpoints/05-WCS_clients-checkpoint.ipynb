{
 "metadata": {
  "name": "",
  "signature": "sha256:7cf7e6fb63cb6bf7e7c1356b7486e5b840047faa191a6ee461caad2ca14bc58f"
 },
 "nbformat": 3,
 "nbformat_minor": 0,
 "worksheets": [
  {
   "cells": [
    {
     "cell_type": "heading",
     "level": 2,
     "metadata": {},
     "source": [
      "05-WCS clients"
     ]
    },
    {
     "cell_type": "code",
     "collapsed": false,
     "input": [],
     "language": "python",
     "metadata": {},
     "outputs": []
    }
   ],
   "metadata": {}
  }
 ]
}