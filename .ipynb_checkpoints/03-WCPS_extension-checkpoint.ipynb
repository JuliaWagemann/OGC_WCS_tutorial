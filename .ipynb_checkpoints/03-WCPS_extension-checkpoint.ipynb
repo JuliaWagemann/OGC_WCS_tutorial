{
 "metadata": {
  "name": "",
  "signature": "sha256:bffc49bc3e2886e83314061a25957144b2719a94ad239c9e43d340ed28f7a538"
 },
 "nbformat": 3,
 "nbformat_minor": 0,
 "worksheets": [
  {
   "cells": [
    {
     "cell_type": "heading",
     "level": 1,
     "metadata": {},
     "source": [
      "03-Extension to the WCS core: Web Coverage Processing Service"
     ]
    },
    {
     "cell_type": "heading",
     "level": 2,
     "metadata": {},
     "source": [
      "Web Coverage Processing Service (WCPS) requests"
     ]
    },
    {
     "cell_type": "markdown",
     "metadata": {},
     "source": [
      "The [previous tutorial](./02-WCS_core_requests.ipynb) explained the principal setup of WCS requests. A Web Coverage Processing Service (WCPS) is an extension of the WCS core suite. A WCPS has the same setup as a WCS and consists of three components:\n",
      "* Service endpoint,\n",
      "* request type and\n",
      "* query parameter.\n"
     ]
    },
    {
     "cell_type": "markdown",
     "metadata": {},
     "source": [
      " \n",
      "> **Service endpoint with service description** remain unchanged:  \n",
      "<font color=\"blue\" size=3>http://earthserver.ecmwf.int/rasdaman/ows?service=WCS&version=2.0.1</font>"
     ]
    },
    {
     "cell_type": "markdown",
     "metadata": {},
     "source": [
      "> **Request type:**  \n",
      "The processing extension defines an additonal request type:\n",
      "- [<font color=\"blue\" size=3>ProcessCoverages</font>](#wcps_examples)"
     ]
    },
    {
     "cell_type": "markdown",
     "metadata": {},
     "source": [
      "> **Query parameter:**  \n",
      "Based on a text-based *SQL-like* query language, data can be accessed, modified and retrieved.   \n",
      "The principal setup of a query is:  \n",
      "\n",
      "\n",
      "   >> <p><font color=\"blue\" size=3>&query=for c in (</font><font color=\"green\" size=3>***coverageId***</font><font color=\"blue\" size=3>) return encode (c</font><font color=\"orange\" size=3>***[...]***</font><font color=\"blue\" size=3>, \"</font><font color=\"purple\" size=3>***format***</font><font color=\"blue\" size=3>\")</font>,</p>\n",
      "\n",
      ">with:\n",
      "* <font color=\"green\" size=3>***coverageId: ***</font> <font size=3>  specifies the parameter (coverage) the query shall be applied on.  \n",
      "     \n",
      "     \n",
      "     >> Example: ***temp2m*** for ERA-interim 2m air temperature</font> \n",
      "     \n",
      "     \n",
      "> * <font color=\"orange\" size=3>***[...]***</font><font size=3>:    specifies the data or subset of data to work with. You can subset any axis of the coverage.\n",
      "\n",
      "\n",
      "     >> Example: the coverage temp2m has three axes: Lat, Long, ansi, and subsets of all three axes can be defined as: ***[Lat(-10.0:10.0), Long(-10.0:10.0), ansi(\"1999-01-01T00:00\":\"1999-01-31T18:00\")]***.  \n",
      "\n",
      "\n",
      "> * <font color=\"purple\" size=3>***format***</font><font size=3>:    the implied output format can be specified here.\n",
      "\n",
      "\n",
      "     >> Possible format encodings are:\n",
      "* **csv**,\n",
      "* **netcdf** or\n",
      "* **png**  \n"
     ]
    },
    {
     "cell_type": "markdown",
     "metadata": {},
     "source": [
      "***"
     ]
    },
    {
     "cell_type": "heading",
     "level": 2,
     "metadata": {},
     "source": [
      "<a id=wcps_examples></a>Examples: WCPS requests"
     ]
    },
    {
     "cell_type": "markdown",
     "metadata": {},
     "source": [
      "<font size=3>The following examples show a variety of WCPS queries and mathematical operations that can be applied to the data of a WCS Server. Examples base on ERA-interim 2m air temperature global fields, 6-hourly values from 1 January 1979 to 31 December 2015</font>"
     ]
    },
    {
     "cell_type": "heading",
     "level": 3,
     "metadata": {},
     "source": [
      "Basic WCPS requests"
     ]
    },
    {
     "cell_type": "markdown",
     "metadata": {},
     "source": [
      "* <font size=3>Retrieve **2m air temperature in Kelvin for Europe for January 1999** encoded as **csv**</font>   \n",
      "\n",
      "<p><font size=3 color=\"blue\"><a href='http://earthserver.ecmwf.int/rasdaman/ows?service=WCS&version=2.0.1&request=ProcessCoverages&query=for c in (temp2m) return encode(c[Lat(-35.0:65.0), Long(-35.0:80.0),ansi(\"1999-01-01T00:00\":\"1999-01-31T18:00\")],\"csv\")'> http://earthserver.ecmwf.int/rasdaman/ows?service=WCS&version=2.0.1&request=ProcessCoverages&query=for c in (temp2m) return encode(c[Lat(-35.0:65), Long(35.0:80.0),ansi(\"1999-01-01T00:00\":\"1999-01-31T18:00\")],\"csv\")</a></font></p>"
     ]
    },
    {
     "cell_type": "code",
     "collapsed": false,
     "input": [
      "HTML('<iframe src=http://earthserver.ecmwf.int/rasdaman/ows?service=WCS&version=2.0.1&request=ProcessCoverages&query=for c in (temp2m) return encode(c[Lat(-35.0:65.0), Long(-35.0:80.0),ansi(\"1999-01-01T00:00\":\"1999-01-31T18:00\")],\"csv\") width=1050 height=500></iframe>')"
     ],
     "language": "python",
     "metadata": {},
     "outputs": [
      {
       "ename": "NameError",
       "evalue": "name 'HTML' is not defined",
       "output_type": "pyerr",
       "traceback": [
        "\u001b[1;31m---------------------------------------------------------------------------\u001b[0m\n\u001b[1;31mNameError\u001b[0m                                 Traceback (most recent call last)",
        "\u001b[1;32m<ipython-input-6-c2cbc32ab653>\u001b[0m in \u001b[0;36m<module>\u001b[1;34m()\u001b[0m\n\u001b[1;32m----> 1\u001b[1;33m \u001b[0mHTML\u001b[0m\u001b[1;33m(\u001b[0m\u001b[1;34m'<iframe src=http://earthserver.ecmwf.int/rasdaman/ows?service=WCS&version=2.0.1&request=ProcessCoverages&query=for c in (temp2m) return encode(c[Lat(-35.0:65.0), Long(-35.0:80.0),ansi(\"1999-01-01T00:00\":\"1999-01-31T18:00\")],\"csv\") width=1050 height=500></iframe>'\u001b[0m\u001b[1;33m)\u001b[0m\u001b[1;33m\u001b[0m\u001b[0m\n\u001b[0m",
        "\u001b[1;31mNameError\u001b[0m: name 'HTML' is not defined"
       ]
      }
     ],
     "prompt_number": 6
    },
    {
     "cell_type": "markdown",
     "metadata": {},
     "source": [
      "* <font size=3>Retrieve **2m air temperature in Kelvin for Europe for 10 January 1999 at 12 UTC** encoded as **netCDF**</font>   \n",
      "\n",
      "<p><font size=3 color=\"blue\"><a href='http://earthserver.ecmwf.int/rasdaman/ows?service=WCS&version=2.0.1&request=ProcessCoverages&query=for c in (temp2m) return encode(c[Lat(-35.0:65.0), Long(-35.0:80.0),ansi(\"1999-01-12T12:00\")],\"netcdf\")'> http://earthserver.ecmwf.int/rasdaman/ows?service=WCS&version=2.0.1&request=ProcessCoverages&query=for c in (temp2m) return encode(c[Lat(-35.0:65.0), Long(35.0:80.0),ansi(\"1999-01-12T12:00\")],\"netcdf\")</a></font></p>"
     ]
    },
    {
     "cell_type": "code",
     "collapsed": false,
     "input": [
      "HTML('<iframe src=http://earthserver.ecmwf.int/rasdaman/ows?service=WCS&version=2.0.1&request=GetCapabilities width=1050 height=500></iframe>')"
     ],
     "language": "python",
     "metadata": {},
     "outputs": [
      {
       "ename": "NameError",
       "evalue": "name 'HTML' is not defined",
       "output_type": "pyerr",
       "traceback": [
        "\u001b[1;31m---------------------------------------------------------------------------\u001b[0m\n\u001b[1;31mNameError\u001b[0m                                 Traceback (most recent call last)",
        "\u001b[1;32m<ipython-input-7-61d32e35fea4>\u001b[0m in \u001b[0;36m<module>\u001b[1;34m()\u001b[0m\n\u001b[1;32m----> 1\u001b[1;33m \u001b[0mHTML\u001b[0m\u001b[1;33m(\u001b[0m\u001b[1;34m'<iframe src=http://earthserver.ecmwf.int/rasdaman/ows?service=WCS&version=2.0.1&request=GetCapabilities width=1050 height=500></iframe>'\u001b[0m\u001b[1;33m)\u001b[0m\u001b[1;33m\u001b[0m\u001b[0m\n\u001b[0m",
        "\u001b[1;31mNameError\u001b[0m: name 'HTML' is not defined"
       ]
      }
     ],
     "prompt_number": 7
    },
    {
     "cell_type": "code",
     "collapsed": false,
     "input": [],
     "language": "python",
     "metadata": {},
     "outputs": []
    }
   ],
   "metadata": {}
  }
 ]
}