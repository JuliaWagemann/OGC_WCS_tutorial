{
 "metadata": {
  "name": "",
  "signature": "sha256:70a919e2b96bd4502b6ea93405010c8c15672444d5fc67722ada0c7aab17befb"
 },
 "nbformat": 3,
 "nbformat_minor": 0,
 "worksheets": [
  {
   "cells": [
    {
     "cell_type": "heading",
     "level": 1,
     "metadata": {},
     "source": [
      "01-Introduction to web services and OGC WCS"
     ]
    },
    {
     "cell_type": "markdown",
     "metadata": {},
     "source": [
      " "
     ]
    },
    {
     "cell_type": "heading",
     "level": 2,
     "metadata": {},
     "source": [
      "Why do we need web services?"
     ]
    },
    {
     "cell_type": "markdown",
     "metadata": {},
     "source": [
      "fkdjfkldjfkljdklfjkldjfkljdkljfkld\n",
      "\n",
      "![dikw_pyramid](img/dikw_pyramide_small_2.png \"From raw data to information and knowledge\")\n",
      "\n",
      "dkfldkl;fkd;lkfldkfl;\n",
      "\n",
      "***"
     ]
    },
    {
     "cell_type": "heading",
     "level": 2,
     "metadata": {},
     "source": [
      "How does a Web Coverage Service (WCS) work?"
     ]
    },
    {
     "cell_type": "markdown",
     "metadata": {},
     "source": [
      "Web services consist of **four components**:\n",
      "   * the **service** itself, that processes the request made by the client \n",
      "   * a **server** that stores the data and information\n",
      "   * a client is an application that is using the web service\n",
      "   * the internet, transfers the requests by the client to the web service and information / data from the web service to the client\n",
      "\n",
      "A **Web Coverage Service** can be of great value, especially for scientists or developers who build applications and want to have access to large data volumes but do not want to store all the data on their local discs.  \n",
      "\n",
      "WCS and WCPS are **machine-to-machine interfaces** and therefore aimed at technical data users or developers, rather than at end users.  \n",
      "\n",
      "Multi-dimensional gridded data served via a WCS can be accessed and processed in an interoperable way. Technical data users for example can integrate a WCS request into their processing routine and further process the data. Commercial companies can easily build customized web-applications upon the data provided via a WCS.\n",
      "\n",
      "\n",
      "![WCS Service](img/WCS_graphic_small.jpg \"A WCS integrated into the common (web-based) data processing chain\")\n",
      "\n",
      "\n",
      "\n",
      "***"
     ]
    },
    {
     "cell_type": "heading",
     "level": 2,
     "metadata": {},
     "source": [
      "What is OGC WC(P)S?"
     ]
    },
    {
     "cell_type": "markdown",
     "metadata": {},
     "source": [
      "The **Web Coverage Service (WCS)** is defined by the Open Geospatial Consortium (OGC) (2012) as:  \n",
      "\n",
      "> *The OGC WCS supports **electronic retrieval of geospatial data** as 'coverages' - that is, digital geospatial information representing space/time-varying phenomena.* \n",
      "\n",
      "  \n",
      "Therefore, WCS is a standard data-access protocol that defines and enables the web-based retrieval of multi-dimensional geospatial datasets. It provided access to the full range of geospatial data served from a web-server and allows for requesting only a subset of the data. A WCS support and trim operations, where either the data dimension (slice) or the data extent (trim) is reduced.\n",
      "\n",
      "Unlike Web Mapping Service (WMS), another widely-used OGC standard for geospatial datasets, which returns spatial data as an image or 'static map', WCS returns data in its raw form, which it's original semantics. This allows for further data processing and analysis or the building of web applications while at the same time the data volume transferred is minimised.\n",
      "\n"
     ]
    },
    {
     "cell_type": "heading",
     "level": 3,
     "metadata": {},
     "source": [
      "Three core WCS requests"
     ]
    },
    {
     "cell_type": "markdown",
     "metadata": {},
     "source": [
      "The WCS core supports three main HTTP requests (operations), which are submitted in the form of a URL:\n",
      "> the ** *GetCapabilities* ** request returns an XML document with information to the service and data provider and an overview of all the coverages (geospatial fields) available on the web server\n",
      "\n",
      ">> Example: [http://earthserver.ecmwf.int/rasdaman/ows?service=WCS&version=2.0.11&request=GetCapabilities](http://earthserver.ecmwf.int/rasdaman/ows?service=WCS&version=2.0.11&request=GetCapabilities)"
     ]
    },
    {
     "cell_type": "markdown",
     "metadata": {},
     "source": [
      "> the ** *DescribeCoverage* ** request returns an XML document with metadata information of one specific coverage\n",
      ">> Example: get information about 2m air temperature coverage  \n",
      "[http://earthserver.ecmwf.int/rasdaman/ows?service=WCS&version=2.0.11&request=DescribeCoverage&coverageId=temp2m](http://earthserver.ecmwf.int/rasdaman/ows?service=WCS&version=2.0.11&request=DescribeCoverage&coverageId=temp2m)"
     ]
    },
    {
     "cell_type": "markdown",
     "metadata": {},
     "source": [
      "> the ** *GetCoverage* ** request returns a full coverage encoded in a specified format, e.g GeoTiff, XML or netCDF\n",
      ">> Example: retrieve a 2D global field of 2m air temperature of 15 December 2013 in XML format  \n",
      "[http://earthserver.ecmwf.int/rasdaman/ows?service=WCS&version=2.0.11&request=GetCoverage&coverageId=temp2m&subset=ansi(\"2013-12-15T00:00\")](http://earthserver.ecmwf.int/rasdaman/ows?service=WCS&version=2.0.11&request=GetCoverage&coverageId=temp2m&subset=ansi(\"2013-12-15T00:00\"))"
     ]
    },
    {
     "cell_type": "heading",
     "level": 3,
     "metadata": {},
     "source": [
      "The processing extension WCPS"
     ]
    },
    {
     "cell_type": "markdown",
     "metadata": {},
     "source": [
      "A **Web Coverage Processing Service** is an extension supported by the WCS 2.0 core specification and can optionally be implemented by a WCS server. WCSPS allows for crafting queries to be run on the data using a text based query language, similar to SQL.  \n",
      "The extension specifies an additional WCS request:  \n",
      "> the ***ProcessCoverages*** request returns a coverage encoded in a specified format (e.g. netCDF or csv) and allows for mathematical calculations on the requestes coverages. \n",
      ">> Example: Convert a 2D global field of 2m air temperature from 31 December 2015 from K to degC  \n",
      "[http://earthserver.ecmwf.int/rasdaman/ows?service=WCS&version=2.0.1&request=ProcessCoverages&query=for c in (temp2m) return encode (c[ansi(\u201c2015-12-31T00:00\u201d) - 273.15],\"csv\")](http://earthserver.ecmwf.int/rasdaman/ows?service=WCS&version=2.0.1&request=ProcessCoverages&query=for c in (temp2m) return encode (c[ansi(\u201c2015-12-31T00:00\u201d) - 273.15],\u201dcsv\u201d))"
     ]
    },
    {
     "cell_type": "code",
     "collapsed": false,
     "input": [],
     "language": "python",
     "metadata": {},
     "outputs": []
    }
   ],
   "metadata": {}
  }
 ]
}