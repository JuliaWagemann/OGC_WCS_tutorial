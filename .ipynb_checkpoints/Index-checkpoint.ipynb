{
 "metadata": {
  "name": "",
  "signature": "sha256:0897e72936c50943f43677a68c3974dbf8030725e81300a7e7516d9e7d85598c"
 },
 "nbformat": 3,
 "nbformat_minor": 0,
 "worksheets": [
  {
   "cells": [
    {
     "cell_type": "heading",
     "level": 1,
     "metadata": {},
     "source": [
      "On-demand geospatial data access via standard webservices | Tutorial"
     ]
    },
    {
     "cell_type": "markdown",
     "metadata": {},
     "source": [
      " "
     ]
    },
    {
     "cell_type": "markdown",
     "metadata": {},
     "source": [
      "This tutorial gives an introduction to the standard data-access protocols [Web Coverage Service](http://www.opengeospatial.org/standards/wcs) (WCS) 2.0 and its extension [Web Coverage Processing Service](http://www.opengeospatial.org/standards/wcps) (WCPS) 1.0.   Both standards are defined by the [Open Geospatial Consortium](http://www.opengeospatial.org) (OGC).  \n",
      "\n",
      "In the framework of the H2020-funded [EarthServer-2](http://earthserver.eu) project, the European Centre of Medium-Range Weather Forecasts (ECMWF) is setting up a WCS server in order to study the feasibility and demonstrate the potential of efficient web-based data access via WCS and WCPS interfaces. You can find more information about ECMWF's role within EarthServer [here](http://ecmwf.int/en/earthserver-2).\n",
      "\n",
      "This tutorial provides (i) a general introduction to web standards for geospatial data and (ii) practical hands-on exercises how to access, retrieve and process data served with a WCS server. \n",
      "\n",
      "After working through the tutorial, you should have a clearer idea of \n",
      "* OGC standards for geospatial data in general,\n",
      "* the purpose and importance of the WCS and WCPS standards,\n",
      "* how data can be accessed, processed and retrieved with the help of a WC(P)S, and\n",
      "* how WC(P)S requests can easily be integrated into processing routines or used to build custom web-applications.  \n",
      "\n",
      "\n",
      "We are very interested in your feedback. Please let us know your experiences working with a WCS service and furthermore, your individual requirements of a web-service like this. We also appreciate any constructive feedback to this tutorial.\n",
      "\n",
      "\n",
      "***"
     ]
    },
    {
     "cell_type": "heading",
     "level": 2,
     "metadata": {},
     "source": [
      "Tutorial Notebooks"
     ]
    },
    {
     "cell_type": "markdown",
     "metadata": {},
     "source": [
      "The following notebooks contain the tutorial materials."
     ]
    },
    {
     "cell_type": "heading",
     "level": 3,
     "metadata": {},
     "source": [
      "1. What is OGC WCS 2.0"
     ]
    },
    {
     "cell_type": "markdown",
     "metadata": {},
     "source": [
      "* [01-OGC_WCS2.0]()"
     ]
    },
    {
     "cell_type": "markdown",
     "metadata": {},
     "source": [
      "\n",
      "***"
     ]
    },
    {
     "cell_type": "heading",
     "level": 2,
     "metadata": {},
     "source": [
      "Contact"
     ]
    },
    {
     "cell_type": "markdown",
     "metadata": {},
     "source": [
      "\n",
      "European Centre for Medium-Range Weather Forecasts | Shinfield Park, Reading RG29AX | United Kingdom\n",
      "\n",
      "For any questions related to the WCS service, please contact us via [earthserver@lists.ecmwf.int](mailto:earthserver@lists.ecmwf.int) \n"
     ]
    }
   ],
   "metadata": {}
  }
 ]
}