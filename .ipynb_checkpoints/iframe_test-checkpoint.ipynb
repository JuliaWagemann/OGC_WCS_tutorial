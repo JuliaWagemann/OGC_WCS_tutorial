{
 "metadata": {
  "name": "",
  "signature": "sha256:6dca75a3930d1b3bd4ed0b889f1b58786d079bbf9c4dc44dbe8dd074c5528b5a"
 },
 "nbformat": 3,
 "nbformat_minor": 0,
 "worksheets": [
  {
   "cells": [
    {
     "cell_type": "heading",
     "level": 1,
     "metadata": {},
     "source": [
      "This is a test"
     ]
    },
    {
     "cell_type": "code",
     "collapsed": false,
     "input": [
      "%%html\n",
      "<iframe width=\"560\" height=\"315\" src='http://earthserver.ecmwf.int/rasdaman/ows?service=WCS&version=2.0.1&request=ProcessCoverages&query=for%20c%20in%20%28precipitation%29%20return%20encode%20%28%20switch%20case%200.5%20%3E%20c[ansi%28%222012-06-18T12:00%22%29]%20*%201000%20return%20{red:%20255;%20green:%20255;%20blue:%20255;%20alpha:%200}%20case%202%20%3E%20c[ansi%28%222012-06-18T12:00%22%29]%20*%201000%20return%20{red:%200;%20green:%20255;%20blue:%20255;%20alpha:%20255}%20case%204%20%3E%20c[ansi%28%222012-06-18T12:00%22%29]%20*%201000%20return%20{red:%200;%20green:%20128;%20blue:%20255;%20alpha:%20255}%20case%2010%20%3E%20c[ansi%28%222012-06-18T12:00%22%29]%20*%201000%20return%20{red:%200;%20green:%200;%20blue:%20255;%20alpha:%20255}%20case%2025%20%3E%20c[ansi%28%222012-06-18T12:00%22%29]%20*%201000%20return%20{red:%20218;%20green:%200;%20blue:%20255;%20alpha:%20255}%20case%2050%20%3E%20c[ansi%28%222012-06-18T12:00%22%29]%20*%201000%20return%20{red:%20255;%20green:%200;%20blue:%20255;%20alpha:%20255}%20case%20100%20%3E%20c[ansi%28%222012-06-18T12:00%22%29]%20*%201000%20return%20{red:%20255;%20green:%20164;%20blue:%200;%20alpha:%20255}%20case%20250%20%3E%20c[ansi%28%222012-06-18T12:00%22%29]%20*%201000%20return%20{red:%20255;%20green:%200;%20blue:%200;%20alpha:%20255}%20case%20250%20%3C=%20c[ansi%28%222012-06-18T12:00%22%29]%20*%201000%20return%20{red:%2051;%20green:%2051;%20blue:%2051;%20alpha:%20255}%20default%20return%20{red:%20255;%20green:%200;%20blue:0;%20alpha:%20255},%22png%22%29' frameborder=\"0\"></iframe>"
     ],
     "language": "python",
     "metadata": {},
     "outputs": []
    }
   ],
   "metadata": {}
  }
 ]
}