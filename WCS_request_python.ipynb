{
 "metadata": {
  "name": "",
  "signature": "sha256:e304d278665fce10e71c5c9ab048c1c4d23ac0b06a0b6e69fc02be0201b0a982"
 },
 "nbformat": 3,
 "nbformat_minor": 0,
 "worksheets": [
  {
   "cells": [
    {
     "cell_type": "heading",
     "level": 2,
     "metadata": {},
     "source": [
      "OGC Web Coverage Service (WCS) 2.0.1"
     ]
    },
    {
     "cell_type": "markdown",
     "metadata": {},
     "source": [
      "This notebook gives a short introduction to the Open Geospatial Consortium (OGC) standard WCS and WCPS (Web Coverage Processing Service). Small examples help you to get started retrieving data from a WCS server."
     ]
    },
    {
     "cell_type": "markdown",
     "metadata": {},
     "source": [
      "___________________________________________________________________________________ "
     ]
    },
    {
     "cell_type": "heading",
     "level": 3,
     "metadata": {},
     "source": [
      "OGC WCS Core Requests"
     ]
    },
    {
     "cell_type": "markdown",
     "metadata": {},
     "source": [
      "OGC Web Coverage Service (v.2.0.1) is a standarized data access protocol. \n",
      "There are three core requests in order to get access to data.\n",
      "\n",
      "The WCS server at ECMWF can be accessed via the url below - by specifying either one of the core requests or the WCS extension.<br> \n",
      "http://incubator.ecmwf.int/2e/rasdaman/ows?service=WCS&version=2.0.1&request=...\n",
      "\n",
      "* **GetCapabilities**\n",
      "Returns a XML-encoded description of service properties and all data (coverages) available on the server.<br>\n",
      "    * The **\"Capabilities document\"** is returned and contains information e.g. service provider, to format encodings, supported interpolation methods, coverages on the server <br>\n",
      "\n",
      "    Example: http://incubator.ecmwf.int/2e/rasdaman/ows?service=WCS&version=2.0.1&request=GetCapabilities\n",
      "\n",
      "\n",
      "* **Describe Coverage**\n",
      "Returns XML-encoded description of a specific coverage, to check resolution, dimension etc. <br>\n",
      "    * Returns the **\"Coverage description document\"** that contains information to spatial and temporal dimension and general information to the type of coverage <br>\n",
      "\n",
      "    Example: http://incubator.ecmwf.int/2e/rasdaman/ows?service=WCS&version=2.0.1&request=DescribeCoverage&coverageId=T2m\n",
      "\n",
      "\n",
      "* **GetCoverage**\n",
      "Returns a coverage or spatial / temporal subset of the coverage --> allows slicing and trimming <br>\n",
      "    * Returns either an xml-encoded file with the resulting information as a tuple list\n",
      "\n",
      "    Example: Retrieve 2m air temperature for the year 2012 for Lat 52 - 54 and Lon 0 - 2 <br>\n",
      "        http://incubator.ecmwf.int/2e/rasdaman/ows?service=WCS&version=2.0.1&request=GetCoverage&coverageId=T2m&subset=Lat%2852.0,54.00%29&subset=Long%280.0,2.0%29&subset=ansi%28%222012-01-01T00:00:00+00:00%22,%222012-12-31T18:00:00+00:00%22%29 <br><br>\n",
      "\n",
      "    * or, a specific format encoding can be chosen, e.g. netCDF:    \n",
      "    \n",
      "    Example: you add to your GetCoverage request at the end **&format=application/netcdf**<br>\n",
      "    http://incubator.ecmwf.int/2e/rasdaman/ows?service=WCS&version=2.0.1&request=GetCoverage&coverageId=T2m&subset=Lat%2852.0,54.00%29&subset=Long%280.0,2.0%29&subset=ansi%28%222012-01-01T00:00:00+00:00%22%29&format=application/netcdf \n",
      "\n"
     ]
    },
    {
     "cell_type": "markdown",
     "metadata": {},
     "source": [
      "_____________________________________________________________________________________________________________________ "
     ]
    },
    {
     "cell_type": "heading",
     "level": 3,
     "metadata": {},
     "source": [
      "OGC WCS Extension Requests"
     ]
    },
    {
     "cell_type": "markdown",
     "metadata": {},
     "source": [
      "OGC Web Coverage Processing Service (WCPS) allows extraction, analysis and processing of large gridded geo-referenced datasets.<br> \n",
      "At WCS 2.0.1, there is an extension for **PROCESSING**. <br>\n",
      "\n",
      "With the help of this WCS wrapper for the OGC WCPS standard, complex SQL-based queries can be executed on the coverages.<br>\n",
      "\n",
      "Queries can be executed by using following request:"
     ]
    },
    {
     "cell_type": "code",
     "collapsed": false,
     "input": [
      "...&request=ProcessCoverages&query="
     ],
     "language": "python",
     "metadata": {},
     "outputs": []
    },
    {
     "cell_type": "markdown",
     "metadata": {},
     "source": [
      "A query looks as follows (information is encoded as \"csv\"):"
     ]
    },
    {
     "cell_type": "code",
     "collapsed": false,
     "input": [
      "for c in (parameter) return encode\n",
      "(c[Lat(double:double),Long(double:double),ansi(\"2014-01-01T00:00:00+00:00\": \"2014-01-02T00:00:00+00:00\")],\"csv\")"
     ],
     "language": "python",
     "metadata": {},
     "outputs": []
    },
    {
     "cell_type": "markdown",
     "metadata": {},
     "source": [
      "Keep in mind: the information that can be retrieved depend on the coverage specifications, e.g. number of dimensions. Coverage specifications can be looked up with the **DescribeCoverage** request."
     ]
    },
    {
     "cell_type": "markdown",
     "metadata": {},
     "source": [
      "_____________________________________________________________________________________________________________________ "
     ]
    },
    {
     "cell_type": "heading",
     "level": 3,
     "metadata": {},
     "source": [
      "How to integrate WCS requests into a python script"
     ]
    },
    {
     "cell_type": "code",
     "collapsed": false,
     "input": [
      "# Load required libraries\n",
      "%matplotlib inline\n",
      "import requests\n",
      "import numpy as np\n",
      "import os\n",
      "import matplotlib.pyplot as plt"
     ],
     "language": "python",
     "metadata": {},
     "outputs": [],
     "prompt_number": 1
    },
    {
     "cell_type": "markdown",
     "metadata": {},
     "source": [
      "WCP Processing query format - Example for 2m air temperature spatial and temporal subsetting and conversion from K to degC"
     ]
    },
    {
     "cell_type": "code",
     "collapsed": false,
     "input": [
      "url_fmt = 'http://earthserver.ecmwf.int/rasdaman/ows?service=WCS&version=2.0.1' \\\n",
      "          '&request=ProcessCoverages' \\\n",
      "          '&query=for c in (%s) return encode(c[Lat(%s), Long(%s), ansi(\"%s\":\"%s\")] - 273.15, \"csv\") '"
     ],
     "language": "python",
     "metadata": {},
     "outputs": [],
     "prompt_number": 2
    },
    {
     "cell_type": "markdown",
     "metadata": {},
     "source": [
      "Create your customized url based on the url format above"
     ]
    },
    {
     "cell_type": "code",
     "collapsed": false,
     "input": [
      "url = url_fmt % (\"temp2m\", 51, -1, \"2000-01-01T00:00:00+00:00\",\"2001-12-31T00:00:00+00:00\")"
     ],
     "language": "python",
     "metadata": {},
     "outputs": [],
     "prompt_number": 8
    },
    {
     "cell_type": "markdown",
     "metadata": {},
     "source": [
      "Store the data information in a python numpy array for further processing"
     ]
    },
    {
     "cell_type": "code",
     "collapsed": false,
     "input": [
      "r= requests.get(url,\n",
      "                proxies={'http':None}\n",
      "                )\n",
      "\n",
      "r.raise_for_status()\n",
      "x = np.array(eval(r.text.replace('{','[').replace('}',']')))\n",
      "y = [float(a) for a in r.text[1:-1].split(\",\")]"
     ],
     "language": "python",
     "metadata": {},
     "outputs": [],
     "prompt_number": 9
    },
    {
     "cell_type": "markdown",
     "metadata": {},
     "source": [
      "Example of a simple and quick plot of the result"
     ]
    },
    {
     "cell_type": "code",
     "collapsed": false,
     "input": [
      "plt.plot(y)\n",
      "plt.show()"
     ],
     "language": "python",
     "metadata": {},
     "outputs": [
      {
       "metadata": {},
       "output_type": "display_data",
       "png": "[encoded data removed]",
       "text": [
        "<matplotlib.figure.Figure at 0x7f0770b45ad0>"
       ]
      }
     ],
     "prompt_number": 10
    },
    {
     "cell_type": "markdown",
     "metadata": {},
     "source": [
      "___________________________________________________"
     ]
    },
    {
     "cell_type": "heading",
     "level": 3,
     "metadata": {},
     "source": [
      "Enjoy exploring WCS and WCPS!"
     ]
    }
   ],
   "metadata": {}
  }
 ]
}