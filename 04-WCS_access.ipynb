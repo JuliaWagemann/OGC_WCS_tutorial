{
 "metadata": {
  "name": "",
  "signature": "sha256:947427521a9d86bcff9ddc428f4467e07c89c675e454b11660554d8f5456b021"
 },
 "nbformat": 3,
 "nbformat_minor": 0,
 "worksheets": [
  {
   "cells": [
    {
     "cell_type": "heading",
     "level": 2,
     "metadata": {},
     "source": [
      "04-How to access and integrate ECMWF's Web Coverage Service?"
     ]
    },
    {
     "cell_type": "code",
     "collapsed": false,
     "input": [],
     "language": "python",
     "metadata": {},
     "outputs": []
    }
   ],
   "metadata": {}
  }
 ]
}